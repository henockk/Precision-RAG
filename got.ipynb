{
 "cells": [
  {
   "cell_type": "code",
   "execution_count": 2,
   "metadata": {},
   "outputs": [],
   "source": [
    "import os\n",
    "from dotenv import load_dotenv\n",
    "\n",
    "load_dotenv()\n",
    "\n",
    "OPENAI_API_KEY = os.getenv(\"OPENAI_API_KEY\")\n",
    "\n",
    "# This is the YouTube video we're going to use.\n",
    "YOUTUBE_VIDEO = \"https://www.youtube.com/watch?v=F1N1TpnR5mI&ab_channel=Three-EyedRaven\""
   ]
  },
  {
   "cell_type": "code",
   "execution_count": 3,
   "metadata": {},
   "outputs": [],
   "source": [
    "from langchain_openai.chat_models import ChatOpenAI\n",
    "\n",
    "model = ChatOpenAI(openai_api_key=OPENAI_API_KEY, model=\"gpt-3.5-turbo\")"
   ]
  },
  {
   "cell_type": "code",
   "execution_count": 7,
   "metadata": {},
   "outputs": [],
   "source": [
    "from langchain_core.output_parsers import StrOutputParser\n",
    "\n",
    "parser = StrOutputParser()\n",
    "\n",
    "chain = model | parser\n"
   ]
  },
  {
   "cell_type": "code",
   "execution_count": null,
   "metadata": {},
   "outputs": [],
   "source": [
    "import tempfile\n",
    "import whisper\n",
    "from pytube import YouTube\n",
    "\n",
    "\n",
    "# Let's do this only if we haven't created the transcription file yet.\n",
    "if not os.path.exists(\"got_transcription.txt\"):\n",
    "    youtube = YouTube(YOUTUBE_VIDEO)\n",
    "    audio = youtube.streams.filter(only_audio=True).first()\n",
    "\n",
    "    # Let's load the base model. This is not the most accurate\n",
    "    # model but it's fast.\n",
    "    whisper_model = whisper.load_model(\"base\")\n",
    "\n",
    "    with tempfile.TemporaryDirectory() as tmpdir:\n",
    "        file = audio.download(output_path=tmpdir)\n",
    "        transcription = whisper_model.transcribe(file, fp16=False)[\"text\"].strip()\n",
    "\n",
    "        with open(\"got_transcription.txt\", \"w\") as file:\n",
    "            file.write(transcription)"
   ]
  },
  {
   "cell_type": "code",
   "execution_count": 10,
   "metadata": {},
   "outputs": [],
   "source": [
    "import re\n",
    "\n",
    "# Read the transcript from the file\n",
    "with open('timestamp.txt', 'r') as file:\n",
    "    transcript = file.read()\n",
    "\n",
    "# Define a regular expression to match timestamps (e.g., [00:00:05])\n",
    "timestamp_pattern = r'\\[?\\d{1,2}:\\d{2}(:\\d{2})?\\]?'\n",
    "\n",
    "# Remove all timestamps from the transcript\n",
    "cleaned_transcript = re.sub(timestamp_pattern, '', transcript)\n",
    "\n",
    "# Optionally, remove extra spaces and newlines left behind after removing timestamps\n",
    "cleaned_transcript = re.sub(r'\\s+', ' ', cleaned_transcript).strip()\n",
    "\n",
    "# Save the cleaned transcript to a new file\n",
    "with open('got_transcription.txt', 'w') as file:\n",
    "    file.write(cleaned_transcript)\n",
    "\n",
    "\n"
   ]
  },
  {
   "cell_type": "code",
   "execution_count": 12,
   "metadata": {},
   "outputs": [],
   "source": [
    "import re\n",
    "import os\n",
    "\n",
    "# Read the transcript from the file\n",
    "with open('timestamp.txt', 'r') as file:\n",
    "    transcript = file.read()\n",
    "\n",
    "# Define a regular expression to match timestamps (e.g., [00:00:05])\n",
    "timestamp_pattern = r'\\[?\\d{1,2}:\\d{2}(:\\d{2})?\\]?'\n",
    "\n",
    "# Remove all timestamps from the transcript\n",
    "cleaned_transcript = re.sub(timestamp_pattern, '', transcript)\n",
    "\n",
    "# Optionally, remove extra spaces and newlines left behind after removing timestamps\n",
    "cleaned_transcript = re.sub(r'\\s+', ' ', cleaned_transcript).strip()\n",
    "\n",
    "# Save the cleaned transcript to a new file if it's not already present\n",
    "output_file = 'got_transcription.txt'\n",
    "if not os.path.exists(output_file):\n",
    "    with open(output_file, 'w') as file:\n",
    "        file.write(cleaned_transcript)\n",
    "else:\n",
    "    # Check if the cleaned transcript is not already present in the file\n",
    "    with open(output_file, 'r') as file:\n",
    "        existing_transcript = file.read()\n",
    "    if cleaned_transcript not in existing_transcript:\n",
    "        with open(output_file, 'a') as file:\n",
    "            file.write('\\n' + cleaned_transcript)\n"
   ]
  }
 ],
 "metadata": {
  "kernelspec": {
   "display_name": ".venv",
   "language": "python",
   "name": "python3"
  },
  "language_info": {
   "codemirror_mode": {
    "name": "ipython",
    "version": 3
   },
   "file_extension": ".py",
   "mimetype": "text/x-python",
   "name": "python",
   "nbconvert_exporter": "python",
   "pygments_lexer": "ipython3",
   "version": "3.10.10"
  }
 },
 "nbformat": 4,
 "nbformat_minor": 2
}
